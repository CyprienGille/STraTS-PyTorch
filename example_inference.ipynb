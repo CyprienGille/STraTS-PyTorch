{
 "cells": [
  {
   "cell_type": "markdown",
   "metadata": {},
   "source": [
    "# Inference example for a model predicting creatinine values\n",
    "\n",
    "## Imports and utility functions"
   ]
  },
  {
   "cell_type": "code",
   "execution_count": 1,
   "metadata": {},
   "outputs": [],
   "source": [
    "import matplotlib.pyplot as plt\n",
    "import numpy as np\n",
    "import torch\n",
    "from torch.utils.data import DataLoader\n",
    "\n",
    "from strats_pytorch.datasets.dataset_regression import (MIMIC_Reg,\n",
    "                                                        padded_collate_fn)\n",
    "from strats_pytorch.models.strats import STraTS\n",
    "from strats_pytorch.utils import denorm"
   ]
  },
  {
   "cell_type": "markdown",
   "metadata": {},
   "source": [
    "## Model Initialization"
   ]
  },
  {
   "cell_type": "code",
   "execution_count": null,
   "metadata": {},
   "outputs": [],
   "source": [
    "exp_n = 14\n",
    "exp_path = f\"exp_creat_reg/exp_{exp_n}/\"\n",
    "\n",
    "model = STraTS(\n",
    "    n_var_embs=29,\n",
    "    dim_demog=2,\n",
    "    dropout=0.0,\n",
    "    n_layers=2,\n",
    "    dim_embed=104,\n",
    "    n_heads=4,\n",
    "    forecasting=False,\n",
    "    regression=True,\n",
    ")\n",
    "model.load_state_dict(torch.load(exp_path + \"STraTS.pth\"))"
   ]
  },
  {
   "cell_type": "markdown",
   "metadata": {},
   "source": [
    "## Dataset and Dataloader Initialization"
   ]
  },
  {
   "cell_type": "code",
   "execution_count": null,
   "metadata": {},
   "outputs": [],
   "source": [
    "test_ds = MIMIC_Reg(\n",
    "    data_path=\"generated/29var_EH_culled_reg.csv\",\n",
    ")\n",
    "test_ds.restrict_to_indexes(np.load(exp_path + \"test_idx.npy\"))\n",
    "\n",
    "# Variable and Time normalization\n",
    "test_ds.normalize(normalize_vars=True, normalize_times=True, verbose=True)\n"
   ]
  },
  {
   "cell_type": "code",
   "execution_count": null,
   "metadata": {},
   "outputs": [],
   "source": [
    "test_dl = DataLoader(\n",
    "    test_ds, \n",
    "    batch_size=1, \n",
    "    collate_fn=padded_collate_fn, \n",
    "    shuffle=False # Note: we need shuffle False to know which time_mean and time_std to use for plotting\n",
    ")"
   ]
  },
  {
   "cell_type": "markdown",
   "metadata": {},
   "source": [
    "## Example time series"
   ]
  },
  {
   "cell_type": "code",
   "execution_count": null,
   "metadata": {},
   "outputs": [],
   "source": [
    "# Get a single time series, of index stay_ind\n",
    "# Note: we need the dataloader to generate the mask\n",
    "stay_ind = 0\n",
    "for ind, (demog, values, times, variables, tgt_val, tgt_time, mask) in enumerate(\n",
    "    test_dl\n",
    "):\n",
    "    if ind == stay_ind:\n",
    "        break\n",
    "\n",
    "# actual stay index just for time denormalization later when plotting\n",
    "stay_ind = test_ds.indexes[stay_ind]"
   ]
  },
  {
   "cell_type": "code",
   "execution_count": null,
   "metadata": {},
   "outputs": [],
   "source": [
    "demog_unbatched = demog[0]\n",
    "\n",
    "gender = \"Male\" if demog_unbatched[0] == -1 else \"Female\"\n",
    "age = denorm(demog_unbatched[1], test_ds.age_mean, test_ds.age_std)\n",
    "print(f\"Demog Info: {gender}, {age} y.o.\")"
   ]
  },
  {
   "cell_type": "markdown",
   "metadata": {},
   "source": [
    "### Plotting each variable"
   ]
  },
  {
   "cell_type": "code",
   "execution_count": null,
   "metadata": {},
   "outputs": [],
   "source": [
    "values_unbatched = values[0]\n",
    "times_unbatched = times[0]\n",
    "variables_unbatched = variables[0]\n",
    "\n",
    "# Collect the values and times per variable for plotting\n",
    "vals_per_var = {}\n",
    "times_per_var = {}\n",
    "for i, v in enumerate(variables_unbatched):\n",
    "    v = v.item()\n",
    "    # init if needed\n",
    "    if v not in vals_per_var.keys():\n",
    "        vals_per_var[v] = []\n",
    "        times_per_var[v] = []\n",
    "\n",
    "    vals_per_var[v].append(\n",
    "        denorm(values_unbatched[i], test_ds.means[v], test_ds.stds[v])\n",
    "    )\n",
    "    times_per_var[v].append(\n",
    "        denorm(times_unbatched[i], test_ds.time_mean, test_ds.time_std)\n",
    "    )"
   ]
  },
  {
   "cell_type": "code",
   "execution_count": null,
   "metadata": {},
   "outputs": [],
   "source": [
    "ind_to_var = {\n",
    "    0: \"Creatinine (serum)\",\n",
    "    1: \"Heart rate\",\n",
    "    2: \"BP systolic\",\n",
    "    3: \"BP diastolic\",\n",
    "    4: \"BP mean\",\n",
    "    5: \"Temp F\",\n",
    "    6: \"weight Daily\",\n",
    "    7: \"weight Admisison\",\n",
    "    8: \"White Blood Cell Count\",\n",
    "    9: \"Sodium (serum)\",\n",
    "    10: \"Potassium (serum)\",\n",
    "    11: \"Arterial pH\",\n",
    "    12: \"Respiratory rate\",\n",
    "    13: \"Apnea interval\",\n",
    "    14: \"Minute volume\",\n",
    "    15: \"Central Venous Pressure\",\n",
    "    16: \"O2 fraction\",\n",
    "    17: \"Blood Flow (dialysis)\",\n",
    "    18: \"Blood Urea Nitrogen\",\n",
    "    19: \"Platelet Count\",\n",
    "    20: \"Lactic acid\",\n",
    "    21: \"SPO2\",\n",
    "    22: \"Hemoglobin\",\n",
    "    23: \"Albumin\",\n",
    "    24: \"Anion gap\",\n",
    "    25: \"Prothrombin time\",\n",
    "    26: \"Arterial 02 pressure\",\n",
    "    27: \"Height (cm)\",\n",
    "    28: \"Glucose (serum)\",\n",
    "}\n",
    "\n",
    "plt.figure(figsize=(18, 15))\n",
    "for i, var_id in enumerate(times_per_var.keys()):\n",
    "    plt.subplot(6, 5, i+1)\n",
    "    plt.plot(times_per_var[var_id], vals_per_var[var_id], \"x-\")\n",
    "    plt.ylabel(ind_to_var[var_id])\n",
    "\n",
    "plt.show()"
   ]
  },
  {
   "cell_type": "markdown",
   "metadata": {},
   "source": [
    "## Model prediction"
   ]
  },
  {
   "cell_type": "code",
   "execution_count": null,
   "metadata": {},
   "outputs": [],
   "source": [
    "pred = model(demog, values, times, variables, mask)\n",
    "print(\n",
    "    f\"Pred value: {denorm(pred.item(), test_ds.means[0], test_ds.stds[0])}; Ground Truth:{denorm(tgt_val.item(), test_ds.means[0], test_ds.stds[0])}\"\n",
    ")"
   ]
  }
 ],
 "metadata": {
  "kernelspec": {
   "display_name": "Python 3 (ipykernel)",
   "language": "python",
   "name": "python3"
  },
  "language_info": {
   "codemirror_mode": {
    "name": "ipython",
    "version": 3
   },
   "file_extension": ".py",
   "mimetype": "text/x-python",
   "name": "python",
   "nbconvert_exporter": "python",
   "pygments_lexer": "ipython3",
   "version": "3.10.8"
  }
 },
 "nbformat": 4,
 "nbformat_minor": 2
}
