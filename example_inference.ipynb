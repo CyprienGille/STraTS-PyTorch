{
 "cells": [
  {
   "cell_type": "markdown",
   "metadata": {},
   "source": [
    "# Inference example for a model predicting creatinine thresholds\n",
    "\n",
    "## Imports and utility functions"
   ]
  },
  {
   "cell_type": "code",
   "execution_count": null,
   "metadata": {},
   "outputs": [],
   "source": [
    "import torch\n",
    "from torch.utils.data import DataLoader\n",
    "import numpy as np\n",
    "import matplotlib.pyplot as plt\n",
    "\n",
    "from strats_pytorch.datasets.dataset_int_classif import MIMIC_Int_Classif, padded_collate_fn\n",
    "from strats_pytorch.models.strats import STraTS\n",
    "\n",
    "\n",
    "def denorm(val, mean, std):\n",
    "    return (val * std) + mean"
   ]
  },
  {
   "cell_type": "markdown",
   "metadata": {},
   "source": [
    "## Model Initialization"
   ]
  },
  {
   "cell_type": "code",
   "execution_count": null,
   "metadata": {},
   "outputs": [],
   "source": [
    "exp_n = 0\n",
    "exp_path = f\"exp_creatinine/exp_{exp_n}/\"\n",
    "\n",
    "model = STraTS(\n",
    "    n_var_embs=17,\n",
    "    dim_demog=2,\n",
    "    dropout=0.0,\n",
    "    n_layers=2,\n",
    "    dim_embed=52,\n",
    "    n_heads=4,\n",
    "    forecasting=False,\n",
    "    n_classes=4\n",
    ")\n",
    "model.load_state_dict(torch.load(exp_path + \"STraTS.pth\"))"
   ]
  },
  {
   "cell_type": "markdown",
   "metadata": {},
   "source": [
    "## Dataset and Dataloader Initialization"
   ]
  },
  {
   "cell_type": "code",
   "execution_count": null,
   "metadata": {},
   "outputs": [],
   "source": [
    "test_ds = MIMIC_Int_Classif(\n",
    "    data_path=\"generated/creat17NoText_culled.csv\"\n",
    ")\n",
    "test_ds.restrict_to_indexes(np.load(exp_path + \"test_idx.npy\"))\n",
    "\n",
    "# Variable and Time normalization\n",
    "test_ds.normalize(normalize_vars=True, normalize_times=True, verbose=True)\n"
   ]
  },
  {
   "cell_type": "code",
   "execution_count": null,
   "metadata": {},
   "outputs": [],
   "source": [
    "test_dl = DataLoader(\n",
    "    test_ds, \n",
    "    batch_size=1, \n",
    "    collate_fn=padded_collate_fn, \n",
    "    shuffle=False # Note: we need shuffle False to know which time_mean and time_std to use for plotting\n",
    ")"
   ]
  },
  {
   "cell_type": "markdown",
   "metadata": {},
   "source": [
    "## Example time series"
   ]
  },
  {
   "cell_type": "code",
   "execution_count": null,
   "metadata": {},
   "outputs": [],
   "source": [
    "# Get a single time series, of index stay_ind\n",
    "# Note: we need the dataloader to generate the mask\n",
    "stay_ind = 3\n",
    "for ind, (demog, values, times, variables, target, mask) in enumerate(test_dl):\n",
    "    if ind==stay_ind:\n",
    "        break\n",
    "\n",
    "# actual stay index just for time denormalization later when plotting\n",
    "stay_ind = test_ds.indexes[stay_ind]"
   ]
  },
  {
   "cell_type": "code",
   "execution_count": null,
   "metadata": {},
   "outputs": [],
   "source": [
    "demog_unbatched = demog[0]\n",
    "\n",
    "gender = \"Male\" if demog_unbatched[0] == -1 else \"Female\"\n",
    "age = denorm(demog_unbatched[1], test_ds.age_mean, test_ds.age_std)\n",
    "print(f\"Demog Info: {gender}, {age} y.o.\")"
   ]
  },
  {
   "cell_type": "markdown",
   "metadata": {},
   "source": [
    "### Plotting each variable"
   ]
  },
  {
   "cell_type": "code",
   "execution_count": null,
   "metadata": {},
   "outputs": [],
   "source": [
    "values_unbatched = values[0]\n",
    "times_unbatched = times[0]\n",
    "variables_unbatched = variables[0]\n",
    "\n",
    "# Collect the values and times per variable for plotting\n",
    "vals_per_var = {}\n",
    "times_per_var = {}\n",
    "for i, v in enumerate(variables_unbatched):\n",
    "    v = v.item()\n",
    "    # init if needed\n",
    "    if v not in vals_per_var.keys():\n",
    "        vals_per_var[v] = []\n",
    "        times_per_var[v] = []\n",
    "\n",
    "    vals_per_var[v].append(denorm(values_unbatched[i], test_ds.means[v], test_ds.stds[v]))\n",
    "    times_per_var[v].append(denorm(times_unbatched[i], test_ds.time_means[stay_ind], test_ds.time_stds[stay_ind]))"
   ]
  },
  {
   "cell_type": "code",
   "execution_count": null,
   "metadata": {},
   "outputs": [],
   "source": [
    "ind_to_var = {\n",
    "    0: \"creat\",\n",
    "    1: \"Heart rate\",\n",
    "    2: \"BP systolic\",\n",
    "    3: \"BP diastolic\",\n",
    "    4: \"BP mean\",\n",
    "    5: \"Temp F\",\n",
    "    6: \"weight Daily\",\n",
    "    7: \"weight Admisison\",\n",
    "    8: \"White Blood Cell Count\",\n",
    "    9: \"sodium (serum)\",\n",
    "    10: \"potassium (serum)\",\n",
    "    11: \"arterial pH\",\n",
    "    12: \"respiratory rate\",\n",
    "    13: \"apnea interval\",\n",
    "    14: \"minute volume\",\n",
    "    15: \"Central Venous Pressure\",\n",
    "    16: \"O2 fraction\",\n",
    "}\n",
    "\n",
    "plt.figure(figsize=(15, 12))\n",
    "for i, var_id in enumerate(times_per_var.keys()):\n",
    "    plt.subplot(6, 3, i+1)\n",
    "    plt.plot(times_per_var[var_id], vals_per_var[var_id], \"x-\")\n",
    "    plt.ylabel(ind_to_var[var_id])\n",
    "\n",
    "plt.show()"
   ]
  },
  {
   "cell_type": "markdown",
   "metadata": {},
   "source": [
    "## Model prediction"
   ]
  },
  {
   "cell_type": "code",
   "execution_count": null,
   "metadata": {},
   "outputs": [],
   "source": [
    "pred = model(demog, values, times, variables, mask)\n",
    "pred_label = pred.argmax().item()\n",
    "print(f\"Pred label: {pred_label}; Ground Truth:{int(target.item())}\")"
   ]
  }
 ],
 "metadata": {
  "kernelspec": {
   "display_name": "Python 3 (ipykernel)",
   "language": "python",
   "name": "python3"
  },
  "language_info": {
   "name": "python",
   "version": "3.10.8"
  }
 },
 "nbformat": 4,
 "nbformat_minor": 2
}
